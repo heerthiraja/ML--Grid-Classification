{
 "cells": [
  {
   "cell_type": "code",
   "execution_count": 1,
   "id": "b0a6cbdb",
   "metadata": {},
   "outputs": [],
   "source": [
    "#importing the libraries\n",
    "import pandas as pd\n",
    "import matplotlib.pyplot as plt\n",
    "import numpy as np"
   ]
  },
  {
   "cell_type": "code",
   "execution_count": 2,
   "id": "66cca6ee",
   "metadata": {},
   "outputs": [],
   "source": [
    "datasets=pd.read_csv(\"Social_Network_Ads.csv\")"
   ]
  },
  {
   "cell_type": "code",
   "execution_count": 3,
   "id": "397372b2",
   "metadata": {},
   "outputs": [
    {
     "data": {
      "text/html": [
       "<div>\n",
       "<style scoped>\n",
       "    .dataframe tbody tr th:only-of-type {\n",
       "        vertical-align: middle;\n",
       "    }\n",
       "\n",
       "    .dataframe tbody tr th {\n",
       "        vertical-align: top;\n",
       "    }\n",
       "\n",
       "    .dataframe thead th {\n",
       "        text-align: right;\n",
       "    }\n",
       "</style>\n",
       "<table border=\"1\" class=\"dataframe\">\n",
       "  <thead>\n",
       "    <tr style=\"text-align: right;\">\n",
       "      <th></th>\n",
       "      <th>User ID</th>\n",
       "      <th>Gender</th>\n",
       "      <th>Age</th>\n",
       "      <th>EstimatedSalary</th>\n",
       "      <th>Purchased</th>\n",
       "    </tr>\n",
       "  </thead>\n",
       "  <tbody>\n",
       "    <tr>\n",
       "      <th>0</th>\n",
       "      <td>15624510</td>\n",
       "      <td>Male</td>\n",
       "      <td>19</td>\n",
       "      <td>19000</td>\n",
       "      <td>0</td>\n",
       "    </tr>\n",
       "    <tr>\n",
       "      <th>1</th>\n",
       "      <td>15810944</td>\n",
       "      <td>Male</td>\n",
       "      <td>35</td>\n",
       "      <td>20000</td>\n",
       "      <td>0</td>\n",
       "    </tr>\n",
       "    <tr>\n",
       "      <th>2</th>\n",
       "      <td>15668575</td>\n",
       "      <td>Female</td>\n",
       "      <td>26</td>\n",
       "      <td>43000</td>\n",
       "      <td>0</td>\n",
       "    </tr>\n",
       "    <tr>\n",
       "      <th>3</th>\n",
       "      <td>15603246</td>\n",
       "      <td>Female</td>\n",
       "      <td>27</td>\n",
       "      <td>57000</td>\n",
       "      <td>0</td>\n",
       "    </tr>\n",
       "    <tr>\n",
       "      <th>4</th>\n",
       "      <td>15804002</td>\n",
       "      <td>Male</td>\n",
       "      <td>19</td>\n",
       "      <td>76000</td>\n",
       "      <td>0</td>\n",
       "    </tr>\n",
       "    <tr>\n",
       "      <th>...</th>\n",
       "      <td>...</td>\n",
       "      <td>...</td>\n",
       "      <td>...</td>\n",
       "      <td>...</td>\n",
       "      <td>...</td>\n",
       "    </tr>\n",
       "    <tr>\n",
       "      <th>128</th>\n",
       "      <td>15722758</td>\n",
       "      <td>Male</td>\n",
       "      <td>30</td>\n",
       "      <td>17000</td>\n",
       "      <td>0</td>\n",
       "    </tr>\n",
       "    <tr>\n",
       "      <th>129</th>\n",
       "      <td>15792102</td>\n",
       "      <td>Female</td>\n",
       "      <td>26</td>\n",
       "      <td>84000</td>\n",
       "      <td>0</td>\n",
       "    </tr>\n",
       "    <tr>\n",
       "      <th>130</th>\n",
       "      <td>15675185</td>\n",
       "      <td>Male</td>\n",
       "      <td>31</td>\n",
       "      <td>58000</td>\n",
       "      <td>0</td>\n",
       "    </tr>\n",
       "    <tr>\n",
       "      <th>131</th>\n",
       "      <td>15801247</td>\n",
       "      <td>Male</td>\n",
       "      <td>33</td>\n",
       "      <td>31000</td>\n",
       "      <td>0</td>\n",
       "    </tr>\n",
       "    <tr>\n",
       "      <th>132</th>\n",
       "      <td>15725660</td>\n",
       "      <td>Male</td>\n",
       "      <td>30</td>\n",
       "      <td>87000</td>\n",
       "      <td>0</td>\n",
       "    </tr>\n",
       "  </tbody>\n",
       "</table>\n",
       "<p>133 rows × 5 columns</p>\n",
       "</div>"
      ],
      "text/plain": [
       "      User ID  Gender  Age  EstimatedSalary  Purchased\n",
       "0    15624510    Male   19            19000          0\n",
       "1    15810944    Male   35            20000          0\n",
       "2    15668575  Female   26            43000          0\n",
       "3    15603246  Female   27            57000          0\n",
       "4    15804002    Male   19            76000          0\n",
       "..        ...     ...  ...              ...        ...\n",
       "128  15722758    Male   30            17000          0\n",
       "129  15792102  Female   26            84000          0\n",
       "130  15675185    Male   31            58000          0\n",
       "131  15801247    Male   33            31000          0\n",
       "132  15725660    Male   30            87000          0\n",
       "\n",
       "[133 rows x 5 columns]"
      ]
     },
     "execution_count": 3,
     "metadata": {},
     "output_type": "execute_result"
    }
   ],
   "source": [
    "datasets.head(133)"
   ]
  },
  {
   "cell_type": "code",
   "execution_count": 4,
   "id": "37bd7422",
   "metadata": {},
   "outputs": [],
   "source": [
    "datasets=pd.get_dummies(datasets,drop_first=True)"
   ]
  },
  {
   "cell_type": "code",
   "execution_count": 5,
   "id": "ac97ff5d",
   "metadata": {},
   "outputs": [
    {
     "data": {
      "text/html": [
       "<div>\n",
       "<style scoped>\n",
       "    .dataframe tbody tr th:only-of-type {\n",
       "        vertical-align: middle;\n",
       "    }\n",
       "\n",
       "    .dataframe tbody tr th {\n",
       "        vertical-align: top;\n",
       "    }\n",
       "\n",
       "    .dataframe thead th {\n",
       "        text-align: right;\n",
       "    }\n",
       "</style>\n",
       "<table border=\"1\" class=\"dataframe\">\n",
       "  <thead>\n",
       "    <tr style=\"text-align: right;\">\n",
       "      <th></th>\n",
       "      <th>User ID</th>\n",
       "      <th>Age</th>\n",
       "      <th>EstimatedSalary</th>\n",
       "      <th>Purchased</th>\n",
       "      <th>Gender_Male</th>\n",
       "    </tr>\n",
       "  </thead>\n",
       "  <tbody>\n",
       "    <tr>\n",
       "      <th>0</th>\n",
       "      <td>15624510</td>\n",
       "      <td>19</td>\n",
       "      <td>19000</td>\n",
       "      <td>0</td>\n",
       "      <td>1</td>\n",
       "    </tr>\n",
       "    <tr>\n",
       "      <th>1</th>\n",
       "      <td>15810944</td>\n",
       "      <td>35</td>\n",
       "      <td>20000</td>\n",
       "      <td>0</td>\n",
       "      <td>1</td>\n",
       "    </tr>\n",
       "    <tr>\n",
       "      <th>2</th>\n",
       "      <td>15668575</td>\n",
       "      <td>26</td>\n",
       "      <td>43000</td>\n",
       "      <td>0</td>\n",
       "      <td>0</td>\n",
       "    </tr>\n",
       "    <tr>\n",
       "      <th>3</th>\n",
       "      <td>15603246</td>\n",
       "      <td>27</td>\n",
       "      <td>57000</td>\n",
       "      <td>0</td>\n",
       "      <td>0</td>\n",
       "    </tr>\n",
       "    <tr>\n",
       "      <th>4</th>\n",
       "      <td>15804002</td>\n",
       "      <td>19</td>\n",
       "      <td>76000</td>\n",
       "      <td>0</td>\n",
       "      <td>1</td>\n",
       "    </tr>\n",
       "    <tr>\n",
       "      <th>...</th>\n",
       "      <td>...</td>\n",
       "      <td>...</td>\n",
       "      <td>...</td>\n",
       "      <td>...</td>\n",
       "      <td>...</td>\n",
       "    </tr>\n",
       "    <tr>\n",
       "      <th>395</th>\n",
       "      <td>15691863</td>\n",
       "      <td>46</td>\n",
       "      <td>41000</td>\n",
       "      <td>1</td>\n",
       "      <td>0</td>\n",
       "    </tr>\n",
       "    <tr>\n",
       "      <th>396</th>\n",
       "      <td>15706071</td>\n",
       "      <td>51</td>\n",
       "      <td>23000</td>\n",
       "      <td>1</td>\n",
       "      <td>1</td>\n",
       "    </tr>\n",
       "    <tr>\n",
       "      <th>397</th>\n",
       "      <td>15654296</td>\n",
       "      <td>50</td>\n",
       "      <td>20000</td>\n",
       "      <td>1</td>\n",
       "      <td>0</td>\n",
       "    </tr>\n",
       "    <tr>\n",
       "      <th>398</th>\n",
       "      <td>15755018</td>\n",
       "      <td>36</td>\n",
       "      <td>33000</td>\n",
       "      <td>0</td>\n",
       "      <td>1</td>\n",
       "    </tr>\n",
       "    <tr>\n",
       "      <th>399</th>\n",
       "      <td>15594041</td>\n",
       "      <td>49</td>\n",
       "      <td>36000</td>\n",
       "      <td>1</td>\n",
       "      <td>0</td>\n",
       "    </tr>\n",
       "  </tbody>\n",
       "</table>\n",
       "<p>400 rows × 5 columns</p>\n",
       "</div>"
      ],
      "text/plain": [
       "      User ID  Age  EstimatedSalary  Purchased  Gender_Male\n",
       "0    15624510   19            19000          0            1\n",
       "1    15810944   35            20000          0            1\n",
       "2    15668575   26            43000          0            0\n",
       "3    15603246   27            57000          0            0\n",
       "4    15804002   19            76000          0            1\n",
       "..        ...  ...              ...        ...          ...\n",
       "395  15691863   46            41000          1            0\n",
       "396  15706071   51            23000          1            1\n",
       "397  15654296   50            20000          1            0\n",
       "398  15755018   36            33000          0            1\n",
       "399  15594041   49            36000          1            0\n",
       "\n",
       "[400 rows x 5 columns]"
      ]
     },
     "execution_count": 5,
     "metadata": {},
     "output_type": "execute_result"
    }
   ],
   "source": [
    "datasets"
   ]
  },
  {
   "cell_type": "code",
   "execution_count": 6,
   "id": "cfa773e9",
   "metadata": {},
   "outputs": [],
   "source": [
    "indep=datasets[['Age', 'EstimatedSalary','Gender_Male']]\n",
    "dep=datasets['Purchased']"
   ]
  },
  {
   "cell_type": "code",
   "execution_count": 7,
   "id": "523b8168",
   "metadata": {},
   "outputs": [
    {
     "data": {
      "text/html": [
       "<div>\n",
       "<style scoped>\n",
       "    .dataframe tbody tr th:only-of-type {\n",
       "        vertical-align: middle;\n",
       "    }\n",
       "\n",
       "    .dataframe tbody tr th {\n",
       "        vertical-align: top;\n",
       "    }\n",
       "\n",
       "    .dataframe thead th {\n",
       "        text-align: right;\n",
       "    }\n",
       "</style>\n",
       "<table border=\"1\" class=\"dataframe\">\n",
       "  <thead>\n",
       "    <tr style=\"text-align: right;\">\n",
       "      <th></th>\n",
       "      <th>Age</th>\n",
       "      <th>EstimatedSalary</th>\n",
       "      <th>Gender_Male</th>\n",
       "    </tr>\n",
       "  </thead>\n",
       "  <tbody>\n",
       "    <tr>\n",
       "      <th>0</th>\n",
       "      <td>19</td>\n",
       "      <td>19000</td>\n",
       "      <td>1</td>\n",
       "    </tr>\n",
       "    <tr>\n",
       "      <th>1</th>\n",
       "      <td>35</td>\n",
       "      <td>20000</td>\n",
       "      <td>1</td>\n",
       "    </tr>\n",
       "    <tr>\n",
       "      <th>2</th>\n",
       "      <td>26</td>\n",
       "      <td>43000</td>\n",
       "      <td>0</td>\n",
       "    </tr>\n",
       "    <tr>\n",
       "      <th>3</th>\n",
       "      <td>27</td>\n",
       "      <td>57000</td>\n",
       "      <td>0</td>\n",
       "    </tr>\n",
       "    <tr>\n",
       "      <th>4</th>\n",
       "      <td>19</td>\n",
       "      <td>76000</td>\n",
       "      <td>1</td>\n",
       "    </tr>\n",
       "    <tr>\n",
       "      <th>...</th>\n",
       "      <td>...</td>\n",
       "      <td>...</td>\n",
       "      <td>...</td>\n",
       "    </tr>\n",
       "    <tr>\n",
       "      <th>395</th>\n",
       "      <td>46</td>\n",
       "      <td>41000</td>\n",
       "      <td>0</td>\n",
       "    </tr>\n",
       "    <tr>\n",
       "      <th>396</th>\n",
       "      <td>51</td>\n",
       "      <td>23000</td>\n",
       "      <td>1</td>\n",
       "    </tr>\n",
       "    <tr>\n",
       "      <th>397</th>\n",
       "      <td>50</td>\n",
       "      <td>20000</td>\n",
       "      <td>0</td>\n",
       "    </tr>\n",
       "    <tr>\n",
       "      <th>398</th>\n",
       "      <td>36</td>\n",
       "      <td>33000</td>\n",
       "      <td>1</td>\n",
       "    </tr>\n",
       "    <tr>\n",
       "      <th>399</th>\n",
       "      <td>49</td>\n",
       "      <td>36000</td>\n",
       "      <td>0</td>\n",
       "    </tr>\n",
       "  </tbody>\n",
       "</table>\n",
       "<p>400 rows × 3 columns</p>\n",
       "</div>"
      ],
      "text/plain": [
       "     Age  EstimatedSalary  Gender_Male\n",
       "0     19            19000            1\n",
       "1     35            20000            1\n",
       "2     26            43000            0\n",
       "3     27            57000            0\n",
       "4     19            76000            1\n",
       "..   ...              ...          ...\n",
       "395   46            41000            0\n",
       "396   51            23000            1\n",
       "397   50            20000            0\n",
       "398   36            33000            1\n",
       "399   49            36000            0\n",
       "\n",
       "[400 rows x 3 columns]"
      ]
     },
     "execution_count": 7,
     "metadata": {},
     "output_type": "execute_result"
    }
   ],
   "source": [
    "indep"
   ]
  },
  {
   "cell_type": "code",
   "execution_count": 8,
   "id": "b06a30d5",
   "metadata": {},
   "outputs": [
    {
     "data": {
      "text/plain": [
       "0      0\n",
       "1      0\n",
       "2      0\n",
       "3      0\n",
       "4      0\n",
       "      ..\n",
       "395    1\n",
       "396    1\n",
       "397    1\n",
       "398    0\n",
       "399    1\n",
       "Name: Purchased, Length: 400, dtype: int64"
      ]
     },
     "execution_count": 8,
     "metadata": {},
     "output_type": "execute_result"
    }
   ],
   "source": [
    "dep"
   ]
  },
  {
   "cell_type": "code",
   "execution_count": 9,
   "id": "c46763e4",
   "metadata": {},
   "outputs": [],
   "source": [
    "from sklearn.model_selection import train_test_split\n",
    "X_train,X_test,y_train,y_test=train_test_split(indep,dep,test_size=0.30,random_state=0)"
   ]
  },
  {
   "cell_type": "code",
   "execution_count": 10,
   "id": "cd9e35ad",
   "metadata": {},
   "outputs": [],
   "source": [
    "from sklearn.preprocessing import StandardScaler\n",
    "sc = StandardScaler()\n",
    "X_train = sc.fit_transform(X_train)\n",
    "X_test = sc.transform(X_test)"
   ]
  },
  {
   "cell_type": "code",
   "execution_count": 11,
   "id": "bb08a8bd",
   "metadata": {},
   "outputs": [],
   "source": [
    "from sklearn.ensemble import RandomForestClassifier"
   ]
  },
  {
   "cell_type": "code",
   "execution_count": 12,
   "id": "664b2787",
   "metadata": {},
   "outputs": [
    {
     "name": "stdout",
     "output_type": "stream",
     "text": [
      "Fitting 5 folds for each of 12 candidates, totalling 60 fits\n"
     ]
    },
    {
     "data": {
      "text/plain": [
       "GridSearchCV(estimator=RandomForestClassifier(), n_jobs=-1,\n",
       "             param_grid={'criterion': ['gini', 'entropy'],\n",
       "                         'max_features': ['auto', 'sqrt', 'log2'],\n",
       "                         'n_estimators': [10, 100]},\n",
       "             scoring='f1_weighted', verbose=3)"
      ]
     },
     "execution_count": 12,
     "metadata": {},
     "output_type": "execute_result"
    }
   ],
   "source": [
    "from sklearn.model_selection import GridSearchCV\n",
    "\n",
    "param_grid = {'criterion':['gini','entropy'],\n",
    "              'max_features': ['auto','sqrt','log2'],\n",
    "              'n_estimators':[10,100]} \n",
    "\n",
    "\n",
    "\n",
    "\n",
    "\n",
    "grid = GridSearchCV(RandomForestClassifier(), param_grid, refit = True, verbose = 3,n_jobs=-1,scoring='f1_weighted') \n",
    "   \n",
    "# fitting the model for grid search \n",
    "grid.fit(X_train, y_train) \n",
    " \n"
   ]
  },
  {
   "cell_type": "code",
   "execution_count": 13,
   "id": "d1a7effe",
   "metadata": {},
   "outputs": [],
   "source": [
    "# print best parameter after tuning \n",
    "#print(grid.best_params_) \n",
    "re=grid.cv_results_\n",
    "#print(re)\n",
    "grid_predictions = grid.predict(X_test) \n",
    "   \n",
    "\n",
    "from sklearn.metrics import confusion_matrix\n",
    "cm = confusion_matrix(y_test, grid_predictions)\n",
    "\n",
    "\n",
    "\n",
    "# print classification report \n",
    "from sklearn.metrics import classification_report\n",
    "clf_report = classification_report(y_test, grid_predictions)\n",
    "\n"
   ]
  },
  {
   "cell_type": "code",
   "execution_count": 14,
   "id": "007240f7",
   "metadata": {},
   "outputs": [
    {
     "name": "stdout",
     "output_type": "stream",
     "text": [
      "The f1_macro value for best parameter {'criterion': 'gini', 'max_features': 'auto', 'n_estimators': 100}: 0.9171245421245421\n"
     ]
    }
   ],
   "source": [
    "\n",
    "from sklearn.metrics import f1_score\n",
    "f1_macro=f1_score(y_test,grid_predictions,average='weighted')\n",
    "print(\"The f1_macro value for best parameter {}:\".format(grid.best_params_),f1_macro)\n"
   ]
  },
  {
   "cell_type": "code",
   "execution_count": 15,
   "id": "13357946",
   "metadata": {},
   "outputs": [
    {
     "name": "stdout",
     "output_type": "stream",
     "text": [
      "The accuracy_score value for best parameter {'criterion': 'gini', 'max_features': 'auto', 'n_estimators': 100}: 0.9166666666666666\n"
     ]
    }
   ],
   "source": [
    "from sklearn.metrics import accuracy_score\n",
    "accuracy_score=accuracy_score(y_test,grid_predictions)\n",
    "print(\"The accuracy_score value for best parameter {}:\".format(grid.best_params_),accuracy_score)"
   ]
  },
  {
   "cell_type": "code",
   "execution_count": 16,
   "id": "c0f3a560",
   "metadata": {},
   "outputs": [
    {
     "name": "stdout",
     "output_type": "stream",
     "text": [
      "The balanced_accuracy_score for best parameter {'criterion': 'gini', 'max_features': 'auto', 'n_estimators': 100}: 0.9132448286508181\n"
     ]
    }
   ],
   "source": [
    "from sklearn.metrics import balanced_accuracy_score\n",
    "balanced_accuracy_score=balanced_accuracy_score(y_test,grid_predictions)\n",
    "print(\"The balanced_accuracy_score for best parameter {}:\".format(grid.best_params_),balanced_accuracy_score)\n"
   ]
  },
  {
   "cell_type": "code",
   "execution_count": 17,
   "id": "afecd022",
   "metadata": {},
   "outputs": [
    {
     "name": "stdout",
     "output_type": "stream",
     "text": [
      "The top_k_accuracy_score for best parameter {'criterion': 'gini', 'max_features': 'auto', 'n_estimators': 100}: 1.0\n"
     ]
    },
    {
     "name": "stderr",
     "output_type": "stream",
     "text": [
      "C:\\Users\\rajah\\anaconda3\\envs\\pugazh\\lib\\site-packages\\sklearn\\metrics\\_ranking.py:1745: UndefinedMetricWarning: 'k' (2) greater than or equal to 'n_classes' (2) will result in a perfect score and is therefore meaningless.\n",
      "  UndefinedMetricWarning,\n"
     ]
    }
   ],
   "source": [
    "from sklearn.metrics import top_k_accuracy_score\n",
    "top_k_accuracy_score=top_k_accuracy_score(y_test, grid_predictions, k=2)\n",
    "print(\"The top_k_accuracy_score for best parameter {}:\".format(grid.best_params_),top_k_accuracy_score)\n"
   ]
  },
  {
   "cell_type": "code",
   "execution_count": 18,
   "id": "ad102406",
   "metadata": {},
   "outputs": [
    {
     "name": "stdout",
     "output_type": "stream",
     "text": [
      "The average_precision_score value for best parameter {'criterion': 'gini', 'max_features': 'auto', 'n_estimators': 100}: 0.8098506333900548\n"
     ]
    }
   ],
   "source": [
    "from sklearn.metrics import average_precision_score\n",
    "average_precision_score=average_precision_score(y_test, grid_predictions)\n",
    "print(\"The average_precision_score value for best parameter {}:\".format(grid.best_params_),average_precision_score)\n"
   ]
  },
  {
   "cell_type": "code",
   "execution_count": 19,
   "id": "8b69d04d",
   "metadata": {},
   "outputs": [
    {
     "name": "stdout",
     "output_type": "stream",
     "text": [
      "The brier_score_loss for best parameter {'criterion': 'gini', 'max_features': 'auto', 'n_estimators': 100}: 0.08333333333333333\n"
     ]
    }
   ],
   "source": [
    "from sklearn.metrics import brier_score_loss\n",
    "brier_score_loss=brier_score_loss(y_test, grid_predictions)\n",
    "print(\"The brier_score_loss for best parameter {}:\".format(grid.best_params_),brier_score_loss)\n"
   ]
  },
  {
   "cell_type": "code",
   "execution_count": 20,
   "id": "2b14fd06",
   "metadata": {},
   "outputs": [
    {
     "name": "stdout",
     "output_type": "stream",
     "text": [
      "The log_loss for best parameter {'criterion': 'gini', 'max_features': 'auto', 'n_estimators': 100}: 2.8782713461140674\n"
     ]
    }
   ],
   "source": [
    "from sklearn.metrics import log_loss\n",
    "log_loss=log_loss(y_test,grid_predictions)\n",
    "print(\"The log_loss for best parameter {}:\".format(grid.best_params_),log_loss)\n"
   ]
  },
  {
   "cell_type": "code",
   "execution_count": 21,
   "id": "139226c2",
   "metadata": {},
   "outputs": [
    {
     "name": "stdout",
     "output_type": "stream",
     "text": [
      "The precision_score for best parameter {'criterion': 'gini', 'max_features': 'auto', 'n_estimators': 100}: 0.9181264471962147\n"
     ]
    }
   ],
   "source": [
    "from sklearn.metrics import precision_score\n",
    "precision_score=precision_score(y_test,grid_predictions,average='weighted')\n",
    "print(\"The precision_score for best parameter {}:\".format(grid.best_params_),precision_score)\n"
   ]
  },
  {
   "cell_type": "code",
   "execution_count": 22,
   "id": "1ca445b7",
   "metadata": {},
   "outputs": [
    {
     "name": "stdout",
     "output_type": "stream",
     "text": [
      "The recall_score for best parameter {'criterion': 'gini', 'max_features': 'auto', 'n_estimators': 100}: 0.9024390243902439\n"
     ]
    }
   ],
   "source": [
    "from sklearn.metrics import recall_score\n",
    "recall_score=recall_score(y_test,grid_predictions)\n",
    "print(\"The recall_score for best parameter {}:\".format(grid.best_params_),recall_score)\n"
   ]
  },
  {
   "cell_type": "code",
   "execution_count": 23,
   "id": "a07cd7b3",
   "metadata": {},
   "outputs": [
    {
     "name": "stdout",
     "output_type": "stream",
     "text": [
      "The jaccard_score for best parameter {'criterion': 'gini', 'max_features': 'auto', 'n_estimators': 100}: [0.87951807 0.78723404]\n"
     ]
    }
   ],
   "source": [
    "from sklearn.metrics import jaccard_score\n",
    "jaccard_score=jaccard_score(y_test,grid_predictions,average=None)\n",
    "print(\"The jaccard_score for best parameter {}:\".format(grid.best_params_),jaccard_score)\n"
   ]
  },
  {
   "cell_type": "code",
   "execution_count": 24,
   "id": "fae76986",
   "metadata": {},
   "outputs": [
    {
     "name": "stdout",
     "output_type": "stream",
     "text": [
      "The confusion Matrix:\n",
      " [[73  6]\n",
      " [ 4 37]]\n"
     ]
    }
   ],
   "source": [
    "print(\"The confusion Matrix:\\n\",cm)"
   ]
  },
  {
   "cell_type": "code",
   "execution_count": 25,
   "id": "8582cd55",
   "metadata": {},
   "outputs": [
    {
     "name": "stdout",
     "output_type": "stream",
     "text": [
      "The report:\n",
      "               precision    recall  f1-score   support\n",
      "\n",
      "           0       0.95      0.92      0.94        79\n",
      "           1       0.86      0.90      0.88        41\n",
      "\n",
      "    accuracy                           0.92       120\n",
      "   macro avg       0.90      0.91      0.91       120\n",
      "weighted avg       0.92      0.92      0.92       120\n",
      "\n"
     ]
    }
   ],
   "source": [
    "print(\"The report:\\n\",clf_report)"
   ]
  },
  {
   "cell_type": "code",
   "execution_count": 26,
   "id": "ec8e2449",
   "metadata": {},
   "outputs": [
    {
     "data": {
      "text/plain": [
       "0.9648039518369868"
      ]
     },
     "execution_count": 26,
     "metadata": {},
     "output_type": "execute_result"
    }
   ],
   "source": [
    "from sklearn.metrics import roc_auc_score\n",
    "\n",
    "roc_auc_score(y_test,grid.predict_proba(X_test)[:,1])"
   ]
  },
  {
   "cell_type": "code",
   "execution_count": 27,
   "id": "9b61794a",
   "metadata": {},
   "outputs": [
    {
     "name": "stdout",
     "output_type": "stream",
     "text": [
      "{'criterion': 'gini', 'max_features': 'auto', 'n_estimators': 100}\n"
     ]
    }
   ],
   "source": [
    "print(grid.best_params_)"
   ]
  },
  {
   "cell_type": "code",
   "execution_count": 28,
   "id": "70247c3c",
   "metadata": {},
   "outputs": [],
   "source": [
    "table=pd.DataFrame.from_dict(re)"
   ]
  },
  {
   "cell_type": "code",
   "execution_count": 29,
   "id": "995635e5",
   "metadata": {},
   "outputs": [
    {
     "data": {
      "text/html": [
       "<div>\n",
       "<style scoped>\n",
       "    .dataframe tbody tr th:only-of-type {\n",
       "        vertical-align: middle;\n",
       "    }\n",
       "\n",
       "    .dataframe tbody tr th {\n",
       "        vertical-align: top;\n",
       "    }\n",
       "\n",
       "    .dataframe thead th {\n",
       "        text-align: right;\n",
       "    }\n",
       "</style>\n",
       "<table border=\"1\" class=\"dataframe\">\n",
       "  <thead>\n",
       "    <tr style=\"text-align: right;\">\n",
       "      <th></th>\n",
       "      <th>mean_fit_time</th>\n",
       "      <th>std_fit_time</th>\n",
       "      <th>mean_score_time</th>\n",
       "      <th>std_score_time</th>\n",
       "      <th>param_criterion</th>\n",
       "      <th>param_max_features</th>\n",
       "      <th>param_n_estimators</th>\n",
       "      <th>params</th>\n",
       "      <th>split0_test_score</th>\n",
       "      <th>split1_test_score</th>\n",
       "      <th>split2_test_score</th>\n",
       "      <th>split3_test_score</th>\n",
       "      <th>split4_test_score</th>\n",
       "      <th>mean_test_score</th>\n",
       "      <th>std_test_score</th>\n",
       "      <th>rank_test_score</th>\n",
       "    </tr>\n",
       "  </thead>\n",
       "  <tbody>\n",
       "    <tr>\n",
       "      <th>0</th>\n",
       "      <td>0.042355</td>\n",
       "      <td>0.010288</td>\n",
       "      <td>0.006401</td>\n",
       "      <td>3.200579e-03</td>\n",
       "      <td>gini</td>\n",
       "      <td>auto</td>\n",
       "      <td>10</td>\n",
       "      <td>{'criterion': 'gini', 'max_features': 'auto', ...</td>\n",
       "      <td>0.855314</td>\n",
       "      <td>0.876643</td>\n",
       "      <td>0.823129</td>\n",
       "      <td>0.929144</td>\n",
       "      <td>0.907658</td>\n",
       "      <td>0.878378</td>\n",
       "      <td>0.037475</td>\n",
       "      <td>6</td>\n",
       "    </tr>\n",
       "    <tr>\n",
       "      <th>1</th>\n",
       "      <td>0.372885</td>\n",
       "      <td>0.014454</td>\n",
       "      <td>0.027972</td>\n",
       "      <td>4.512745e-03</td>\n",
       "      <td>gini</td>\n",
       "      <td>auto</td>\n",
       "      <td>100</td>\n",
       "      <td>{'criterion': 'gini', 'max_features': 'auto', ...</td>\n",
       "      <td>0.874254</td>\n",
       "      <td>0.875644</td>\n",
       "      <td>0.859435</td>\n",
       "      <td>0.911105</td>\n",
       "      <td>0.945469</td>\n",
       "      <td>0.893181</td>\n",
       "      <td>0.031177</td>\n",
       "      <td>1</td>\n",
       "    </tr>\n",
       "    <tr>\n",
       "      <th>2</th>\n",
       "      <td>0.034677</td>\n",
       "      <td>0.004170</td>\n",
       "      <td>0.009375</td>\n",
       "      <td>4.329651e-03</td>\n",
       "      <td>gini</td>\n",
       "      <td>sqrt</td>\n",
       "      <td>10</td>\n",
       "      <td>{'criterion': 'gini', 'max_features': 'sqrt', ...</td>\n",
       "      <td>0.892857</td>\n",
       "      <td>0.838326</td>\n",
       "      <td>0.859435</td>\n",
       "      <td>0.875548</td>\n",
       "      <td>0.909115</td>\n",
       "      <td>0.875056</td>\n",
       "      <td>0.024780</td>\n",
       "      <td>8</td>\n",
       "    </tr>\n",
       "    <tr>\n",
       "      <th>3</th>\n",
       "      <td>0.352384</td>\n",
       "      <td>0.021414</td>\n",
       "      <td>0.028426</td>\n",
       "      <td>8.166075e-03</td>\n",
       "      <td>gini</td>\n",
       "      <td>sqrt</td>\n",
       "      <td>100</td>\n",
       "      <td>{'criterion': 'gini', 'max_features': 'sqrt', ...</td>\n",
       "      <td>0.874254</td>\n",
       "      <td>0.838326</td>\n",
       "      <td>0.841398</td>\n",
       "      <td>0.911105</td>\n",
       "      <td>0.927778</td>\n",
       "      <td>0.878572</td>\n",
       "      <td>0.036055</td>\n",
       "      <td>5</td>\n",
       "    </tr>\n",
       "    <tr>\n",
       "      <th>4</th>\n",
       "      <td>0.028220</td>\n",
       "      <td>0.006300</td>\n",
       "      <td>0.006250</td>\n",
       "      <td>7.655006e-03</td>\n",
       "      <td>gini</td>\n",
       "      <td>log2</td>\n",
       "      <td>10</td>\n",
       "      <td>{'criterion': 'gini', 'max_features': 'log2', ...</td>\n",
       "      <td>0.855314</td>\n",
       "      <td>0.802399</td>\n",
       "      <td>0.804584</td>\n",
       "      <td>0.892857</td>\n",
       "      <td>0.870721</td>\n",
       "      <td>0.845175</td>\n",
       "      <td>0.036073</td>\n",
       "      <td>12</td>\n",
       "    </tr>\n",
       "    <tr>\n",
       "      <th>5</th>\n",
       "      <td>0.339149</td>\n",
       "      <td>0.032728</td>\n",
       "      <td>0.024000</td>\n",
       "      <td>8.971638e-07</td>\n",
       "      <td>gini</td>\n",
       "      <td>log2</td>\n",
       "      <td>100</td>\n",
       "      <td>{'criterion': 'gini', 'max_features': 'log2', ...</td>\n",
       "      <td>0.874254</td>\n",
       "      <td>0.821429</td>\n",
       "      <td>0.823129</td>\n",
       "      <td>0.911105</td>\n",
       "      <td>0.946153</td>\n",
       "      <td>0.875214</td>\n",
       "      <td>0.048841</td>\n",
       "      <td>7</td>\n",
       "    </tr>\n",
       "    <tr>\n",
       "      <th>6</th>\n",
       "      <td>0.034821</td>\n",
       "      <td>0.012631</td>\n",
       "      <td>0.007927</td>\n",
       "      <td>4.943411e-03</td>\n",
       "      <td>entropy</td>\n",
       "      <td>auto</td>\n",
       "      <td>10</td>\n",
       "      <td>{'criterion': 'entropy', 'max_features': 'auto...</td>\n",
       "      <td>0.855314</td>\n",
       "      <td>0.838326</td>\n",
       "      <td>0.804584</td>\n",
       "      <td>0.874356</td>\n",
       "      <td>0.907658</td>\n",
       "      <td>0.856047</td>\n",
       "      <td>0.034531</td>\n",
       "      <td>11</td>\n",
       "    </tr>\n",
       "    <tr>\n",
       "      <th>7</th>\n",
       "      <td>0.302401</td>\n",
       "      <td>0.018521</td>\n",
       "      <td>0.024001</td>\n",
       "      <td>2.328216e-06</td>\n",
       "      <td>entropy</td>\n",
       "      <td>auto</td>\n",
       "      <td>100</td>\n",
       "      <td>{'criterion': 'entropy', 'max_features': 'auto...</td>\n",
       "      <td>0.874254</td>\n",
       "      <td>0.821429</td>\n",
       "      <td>0.841398</td>\n",
       "      <td>0.911105</td>\n",
       "      <td>0.963889</td>\n",
       "      <td>0.882415</td>\n",
       "      <td>0.050852</td>\n",
       "      <td>3</td>\n",
       "    </tr>\n",
       "    <tr>\n",
       "      <th>8</th>\n",
       "      <td>0.032000</td>\n",
       "      <td>0.005059</td>\n",
       "      <td>0.011200</td>\n",
       "      <td>8.158270e-03</td>\n",
       "      <td>entropy</td>\n",
       "      <td>sqrt</td>\n",
       "      <td>10</td>\n",
       "      <td>{'criterion': 'entropy', 'max_features': 'sqrt...</td>\n",
       "      <td>0.855314</td>\n",
       "      <td>0.802399</td>\n",
       "      <td>0.823129</td>\n",
       "      <td>0.911105</td>\n",
       "      <td>0.946153</td>\n",
       "      <td>0.867620</td>\n",
       "      <td>0.053746</td>\n",
       "      <td>10</td>\n",
       "    </tr>\n",
       "    <tr>\n",
       "      <th>9</th>\n",
       "      <td>0.328001</td>\n",
       "      <td>0.021467</td>\n",
       "      <td>0.030401</td>\n",
       "      <td>5.985810e-03</td>\n",
       "      <td>entropy</td>\n",
       "      <td>sqrt</td>\n",
       "      <td>100</td>\n",
       "      <td>{'criterion': 'entropy', 'max_features': 'sqrt...</td>\n",
       "      <td>0.874254</td>\n",
       "      <td>0.857143</td>\n",
       "      <td>0.823129</td>\n",
       "      <td>0.911105</td>\n",
       "      <td>0.945469</td>\n",
       "      <td>0.882220</td>\n",
       "      <td>0.042471</td>\n",
       "      <td>4</td>\n",
       "    </tr>\n",
       "    <tr>\n",
       "      <th>10</th>\n",
       "      <td>0.036795</td>\n",
       "      <td>0.006401</td>\n",
       "      <td>0.014410</td>\n",
       "      <td>1.377445e-02</td>\n",
       "      <td>entropy</td>\n",
       "      <td>log2</td>\n",
       "      <td>10</td>\n",
       "      <td>{'criterion': 'entropy', 'max_features': 'log2...</td>\n",
       "      <td>0.892857</td>\n",
       "      <td>0.802399</td>\n",
       "      <td>0.821429</td>\n",
       "      <td>0.911105</td>\n",
       "      <td>0.927778</td>\n",
       "      <td>0.871114</td>\n",
       "      <td>0.049947</td>\n",
       "      <td>9</td>\n",
       "    </tr>\n",
       "    <tr>\n",
       "      <th>11</th>\n",
       "      <td>0.303428</td>\n",
       "      <td>0.030264</td>\n",
       "      <td>0.019436</td>\n",
       "      <td>4.189301e-03</td>\n",
       "      <td>entropy</td>\n",
       "      <td>log2</td>\n",
       "      <td>100</td>\n",
       "      <td>{'criterion': 'entropy', 'max_features': 'log2...</td>\n",
       "      <td>0.874254</td>\n",
       "      <td>0.857143</td>\n",
       "      <td>0.841398</td>\n",
       "      <td>0.929144</td>\n",
       "      <td>0.963889</td>\n",
       "      <td>0.893166</td>\n",
       "      <td>0.046112</td>\n",
       "      <td>2</td>\n",
       "    </tr>\n",
       "  </tbody>\n",
       "</table>\n",
       "</div>"
      ],
      "text/plain": [
       "    mean_fit_time  std_fit_time  mean_score_time  std_score_time  \\\n",
       "0        0.042355      0.010288         0.006401    3.200579e-03   \n",
       "1        0.372885      0.014454         0.027972    4.512745e-03   \n",
       "2        0.034677      0.004170         0.009375    4.329651e-03   \n",
       "3        0.352384      0.021414         0.028426    8.166075e-03   \n",
       "4        0.028220      0.006300         0.006250    7.655006e-03   \n",
       "5        0.339149      0.032728         0.024000    8.971638e-07   \n",
       "6        0.034821      0.012631         0.007927    4.943411e-03   \n",
       "7        0.302401      0.018521         0.024001    2.328216e-06   \n",
       "8        0.032000      0.005059         0.011200    8.158270e-03   \n",
       "9        0.328001      0.021467         0.030401    5.985810e-03   \n",
       "10       0.036795      0.006401         0.014410    1.377445e-02   \n",
       "11       0.303428      0.030264         0.019436    4.189301e-03   \n",
       "\n",
       "   param_criterion param_max_features param_n_estimators  \\\n",
       "0             gini               auto                 10   \n",
       "1             gini               auto                100   \n",
       "2             gini               sqrt                 10   \n",
       "3             gini               sqrt                100   \n",
       "4             gini               log2                 10   \n",
       "5             gini               log2                100   \n",
       "6          entropy               auto                 10   \n",
       "7          entropy               auto                100   \n",
       "8          entropy               sqrt                 10   \n",
       "9          entropy               sqrt                100   \n",
       "10         entropy               log2                 10   \n",
       "11         entropy               log2                100   \n",
       "\n",
       "                                               params  split0_test_score  \\\n",
       "0   {'criterion': 'gini', 'max_features': 'auto', ...           0.855314   \n",
       "1   {'criterion': 'gini', 'max_features': 'auto', ...           0.874254   \n",
       "2   {'criterion': 'gini', 'max_features': 'sqrt', ...           0.892857   \n",
       "3   {'criterion': 'gini', 'max_features': 'sqrt', ...           0.874254   \n",
       "4   {'criterion': 'gini', 'max_features': 'log2', ...           0.855314   \n",
       "5   {'criterion': 'gini', 'max_features': 'log2', ...           0.874254   \n",
       "6   {'criterion': 'entropy', 'max_features': 'auto...           0.855314   \n",
       "7   {'criterion': 'entropy', 'max_features': 'auto...           0.874254   \n",
       "8   {'criterion': 'entropy', 'max_features': 'sqrt...           0.855314   \n",
       "9   {'criterion': 'entropy', 'max_features': 'sqrt...           0.874254   \n",
       "10  {'criterion': 'entropy', 'max_features': 'log2...           0.892857   \n",
       "11  {'criterion': 'entropy', 'max_features': 'log2...           0.874254   \n",
       "\n",
       "    split1_test_score  split2_test_score  split3_test_score  \\\n",
       "0            0.876643           0.823129           0.929144   \n",
       "1            0.875644           0.859435           0.911105   \n",
       "2            0.838326           0.859435           0.875548   \n",
       "3            0.838326           0.841398           0.911105   \n",
       "4            0.802399           0.804584           0.892857   \n",
       "5            0.821429           0.823129           0.911105   \n",
       "6            0.838326           0.804584           0.874356   \n",
       "7            0.821429           0.841398           0.911105   \n",
       "8            0.802399           0.823129           0.911105   \n",
       "9            0.857143           0.823129           0.911105   \n",
       "10           0.802399           0.821429           0.911105   \n",
       "11           0.857143           0.841398           0.929144   \n",
       "\n",
       "    split4_test_score  mean_test_score  std_test_score  rank_test_score  \n",
       "0            0.907658         0.878378        0.037475                6  \n",
       "1            0.945469         0.893181        0.031177                1  \n",
       "2            0.909115         0.875056        0.024780                8  \n",
       "3            0.927778         0.878572        0.036055                5  \n",
       "4            0.870721         0.845175        0.036073               12  \n",
       "5            0.946153         0.875214        0.048841                7  \n",
       "6            0.907658         0.856047        0.034531               11  \n",
       "7            0.963889         0.882415        0.050852                3  \n",
       "8            0.946153         0.867620        0.053746               10  \n",
       "9            0.945469         0.882220        0.042471                4  \n",
       "10           0.927778         0.871114        0.049947                9  \n",
       "11           0.963889         0.893166        0.046112                2  "
      ]
     },
     "execution_count": 29,
     "metadata": {},
     "output_type": "execute_result"
    }
   ],
   "source": [
    "table"
   ]
  },
  {
   "cell_type": "code",
   "execution_count": 30,
   "id": "9e333332",
   "metadata": {},
   "outputs": [],
   "source": [
    "table_pr=pd.DataFrame()"
   ]
  },
  {
   "cell_type": "code",
   "execution_count": 31,
   "id": "ad823ea4",
   "metadata": {},
   "outputs": [
    {
     "name": "stdout",
     "output_type": "stream",
     "text": [
      "[[-0.77101313  0.49720103  0.99288247]\n",
      " [ 0.0133054  -0.57280368 -1.00716855]\n",
      " [-0.28081405  0.15017248  0.99288247]\n",
      " [-0.77101313  0.26584866 -1.00716855]\n",
      " [-0.28081405 -0.57280368 -1.00716855]\n",
      " [-1.06513258 -1.44037507  0.99288247]\n",
      " [-0.67297331 -1.5849703  -1.00716855]\n",
      " [-0.18277423  2.14558666  0.99288247]\n",
      " [-1.94749093 -0.05226085 -1.00716855]\n",
      " [ 0.89566375 -0.775237    0.99288247]\n",
      " [-0.77101313 -0.60172273  0.99288247]\n",
      " [-0.96709276 -0.42820845 -1.00716855]\n",
      " [-0.08473441 -0.42820845  0.99288247]\n",
      " [ 0.11134522  0.20801057  0.99288247]\n",
      " [-1.7514113   0.46828198  0.99288247]\n",
      " [-0.5749335   1.36477242 -1.00716855]\n",
      " [-0.08473441  0.20801057  0.99288247]\n",
      " [-1.84945111  0.43936294  0.99288247]\n",
      " [ 1.67998229  1.74072002 -1.00716855]\n",
      " [-0.28081405 -1.38253697  0.99288247]\n",
      " [-0.28081405 -0.65956082 -1.00716855]\n",
      " [ 0.89566375  2.14558666 -1.00716855]\n",
      " [ 0.30742485 -0.54388463 -1.00716855]\n",
      " [ 0.89566375  1.01774386  0.99288247]\n",
      " [-1.45729185 -1.2090227  -1.00716855]\n",
      " [ 1.09174339  2.05882953 -1.00716855]\n",
      " [-0.96709276  0.49720103 -1.00716855]\n",
      " [-0.86905295  0.29476771  0.99288247]\n",
      " [-0.08473441 -0.22577513 -1.00716855]\n",
      " [-0.5749335   0.46828198 -1.00716855]\n",
      " [-1.65337148  0.52612008  0.99288247]\n",
      " [-0.08473441  0.26584866  0.99288247]\n",
      " [ 1.87606192 -0.28361322  0.99288247]\n",
      " [-0.08473441 -0.48604654  0.99288247]\n",
      " [-1.35925203 -0.34145131  0.99288247]\n",
      " [-1.94749093 -0.51496559  0.99288247]\n",
      " [-1.55533166  0.32368675  0.99288247]\n",
      " [-0.37885386 -0.775237   -1.00716855]\n",
      " [-0.67297331 -1.03550842 -1.00716855]\n",
      " [ 1.09174339 -0.97767033 -1.00716855]\n",
      " [-1.06513258  0.52612008  0.99288247]\n",
      " [ 0.30742485 -0.51496559  0.99288247]\n",
      " [-1.06513258  0.41044389 -1.00716855]\n",
      " [-0.28081405 -1.44037507  0.99288247]\n",
      " [ 0.50350449  1.22017719 -1.00716855]\n",
      " [-1.06513258 -0.34145131 -1.00716855]\n",
      " [-0.08473441  0.29476771 -1.00716855]\n",
      " [ 1.38586284  0.58395817 -1.00716855]\n",
      " [-1.1631724  -1.1511846   0.99288247]\n",
      " [ 1.09174339  0.46828198  0.99288247]\n",
      " [ 1.87606192  1.50936765 -1.00716855]\n",
      " [-0.37885386 -1.29577984 -1.00716855]\n",
      " [-0.28081405 -0.37037036 -1.00716855]\n",
      " [-0.37885386  1.30693432  0.99288247]\n",
      " [ 2.07214155  0.52612008 -1.00716855]\n",
      " [ 0.69958412 -1.09334651  0.99288247]\n",
      " [-0.86905295  0.38152485 -1.00716855]\n",
      " [-1.1631724   0.29476771 -1.00716855]\n",
      " [ 1.09174339 -1.2090227   0.99288247]\n",
      " [-1.45729185 -1.44037507  0.99288247]\n",
      " [-0.5749335  -1.49821316  0.99288247]\n",
      " [ 2.17018137 -0.80415605  0.99288247]\n",
      " [-1.84945111  0.17909152  0.99288247]\n",
      " [-0.18277423  0.84422958  0.99288247]\n",
      " [-1.84945111 -1.26686079 -1.00716855]\n",
      " [ 2.17018137  0.38152485  0.99288247]\n",
      " [-1.35925203  0.55503912 -1.00716855]\n",
      " [-1.06513258 -0.34145131  0.99288247]\n",
      " [ 0.20938504 -0.65956082  0.99288247]\n",
      " [ 0.40546467  0.00557724 -1.00716855]\n",
      " [-0.5749335   2.31910094 -1.00716855]\n",
      " [-0.28081405  0.20801057 -1.00716855]\n",
      " [-1.55533166 -0.19685608 -1.00716855]\n",
      " [ 0.69958412 -1.38253697  0.99288247]\n",
      " [-1.06513258  0.55503912  0.99288247]\n",
      " [-1.94749093  0.3526058   0.99288247]\n",
      " [ 0.40546467  0.26584866 -1.00716855]\n",
      " [ 0.20938504 -0.28361322 -1.00716855]\n",
      " [ 1.48390265 -1.03550842 -1.00716855]\n",
      " [ 0.89566375  1.07558195 -1.00716855]\n",
      " [ 1.97410174  2.14558666  0.99288247]\n",
      " [ 2.07214155  0.38152485 -1.00716855]\n",
      " [-1.35925203 -0.42820845 -1.00716855]\n",
      " [-1.1631724  -1.00658937 -1.00716855]\n",
      " [ 1.97410174 -0.91983223 -1.00716855]\n",
      " [ 0.40546467  0.29476771 -1.00716855]\n",
      " [ 0.20938504  0.15017248 -1.00716855]\n",
      " [ 2.07214155  1.74072002  0.99288247]\n",
      " [ 0.79762394 -0.8330751  -1.00716855]\n",
      " [ 0.30742485 -0.28361322 -1.00716855]\n",
      " [ 0.40546467 -0.16793703  0.99288247]\n",
      " [-0.08473441  2.20342476 -1.00716855]\n",
      " [-1.45729185 -0.63064177 -1.00716855]\n",
      " [-1.26121221 -1.06442747  0.99288247]\n",
      " [-1.35925203  0.41044389  0.99288247]\n",
      " [-1.06513258  0.75747245 -1.00716855]\n",
      " [-1.45729185 -0.19685608  0.99288247]\n",
      " [ 0.99370357 -1.06442747  0.99288247]\n",
      " [ 0.99370357  0.58395817  0.99288247]\n",
      " [ 0.40546467  0.98882482  0.99288247]\n",
      " [ 0.6015443  -0.89091319 -1.00716855]\n",
      " [-0.5749335   1.45152956  0.99288247]\n",
      " [ 0.0133054  -0.57280368 -1.00716855]\n",
      " [-0.5749335   1.88531525 -1.00716855]\n",
      " [ 1.38586284 -1.41145602 -1.00716855]\n",
      " [ 1.48390265  0.98882482 -1.00716855]\n",
      " [ 0.11134522 -0.80415605  0.99288247]\n",
      " [ 0.0133054  -0.25469417  0.99288247]\n",
      " [-0.18277423 -0.57280368 -1.00716855]\n",
      " [-0.18277423 -0.19685608 -1.00716855]\n",
      " [-0.28081405 -1.29577984 -1.00716855]\n",
      " [-0.28081405 -0.57280368  0.99288247]\n",
      " [ 0.40546467  0.09233438  0.99288247]\n",
      " [ 0.89566375 -0.60172273 -1.00716855]\n",
      " [ 2.07214155 -1.18010365 -1.00716855]\n",
      " [ 1.09174339 -0.13901799  0.99288247]\n",
      " [ 0.69958412  1.76963906 -1.00716855]\n",
      " [-0.67297331  0.55503912 -1.00716855]\n",
      " [ 0.79762394  0.3526058  -1.00716855]\n",
      " [ 0.89566375 -0.54388463 -1.00716855]]\n"
     ]
    }
   ],
   "source": [
    "print(X_test)"
   ]
  }
 ],
 "metadata": {
  "kernelspec": {
   "display_name": "Python 3",
   "language": "python",
   "name": "python3"
  },
  "language_info": {
   "codemirror_mode": {
    "name": "ipython",
    "version": 3
   },
   "file_extension": ".py",
   "mimetype": "text/x-python",
   "name": "python",
   "nbconvert_exporter": "python",
   "pygments_lexer": "ipython3",
   "version": "3.7.6"
  }
 },
 "nbformat": 4,
 "nbformat_minor": 5
}
